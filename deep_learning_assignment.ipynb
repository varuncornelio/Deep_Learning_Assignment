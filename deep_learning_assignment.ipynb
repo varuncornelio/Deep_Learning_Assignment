{
  "nbformat": 4,
  "nbformat_minor": 0,
  "metadata": {
    "colab": {
      "name": "dedep_learning_assignment.ipynb",
      "provenance": [],
      "collapsed_sections": [],
      "authorship_tag": "ABX9TyOuFNkndTKlo8f3WGZgyGnG",
      "include_colab_link": true
    },
    "kernelspec": {
      "name": "python3",
      "display_name": "Python 3"
    },
    "language_info": {
      "name": "python"
    },
    "accelerator": "GPU"
  },
  "cells": [
    {
      "cell_type": "markdown",
      "metadata": {
        "id": "view-in-github",
        "colab_type": "text"
      },
      "source": [
        "<a href=\"https://colab.research.google.com/github/varuncornelio/Deep_Learning_Assignment/blob/main/deep_learning_assignment.ipynb\" target=\"_parent\"><img src=\"https://colab.research.google.com/assets/colab-badge.svg\" alt=\"Open In Colab\"/></a>"
      ]
    },
    {
      "cell_type": "code",
      "execution_count": null,
      "metadata": {
        "colab": {
          "base_uri": "https://localhost:8080/"
        },
        "id": "0DmGXCdx7X_E",
        "outputId": "6c5b2129-9a1e-436c-a7e4-37a633a50d4e"
      },
      "outputs": [
        {
          "output_type": "stream",
          "name": "stdout",
          "text": [
            "Looking in links: https://download.pytorch.org/whl/cu102/torch_stable.html\n",
            "Collecting torch==1.10.1+cu102\n",
            "  Downloading https://download.pytorch.org/whl/cu102/torch-1.10.1%2Bcu102-cp37-cp37m-linux_x86_64.whl (881.9 MB)\n",
            "\u001b[K     |██████████████████████████████▎ | 834.1 MB 1.2 MB/s eta 0:00:40tcmalloc: large alloc 1147494400 bytes == 0x55dcbf1fc000 @  0x7f30a8852615 0x55dc85bef4cc 0x55dc85ccf47a 0x55dc85bf22ed 0x55dc85ce3e1d 0x55dc85c65e99 0x55dc85c609ee 0x55dc85bf3bda 0x55dc85c65d00 0x55dc85c609ee 0x55dc85bf3bda 0x55dc85c62737 0x55dc85ce4c66 0x55dc85c61daf 0x55dc85ce4c66 0x55dc85c61daf 0x55dc85ce4c66 0x55dc85c61daf 0x55dc85bf4039 0x55dc85c37409 0x55dc85bf2c52 0x55dc85c65c25 0x55dc85c609ee 0x55dc85bf3bda 0x55dc85c62737 0x55dc85c609ee 0x55dc85bf3bda 0x55dc85c61915 0x55dc85bf3afa 0x55dc85c61c0d 0x55dc85c609ee\n",
            "\u001b[K     |████████████████████████████████| 881.9 MB 15 kB/s \n",
            "\u001b[?25hCollecting torchvision==0.11.2+cu102\n",
            "  Downloading https://download.pytorch.org/whl/cu102/torchvision-0.11.2%2Bcu102-cp37-cp37m-linux_x86_64.whl (23.2 MB)\n",
            "\u001b[K     |████████████████████████████████| 23.2 MB 1.3 MB/s \n",
            "\u001b[?25hCollecting torchaudio===0.10.1+cu102\n",
            "  Downloading https://download.pytorch.org/whl/cu102/torchaudio-0.10.1%2Bcu102-cp37-cp37m-linux_x86_64.whl (2.9 MB)\n",
            "\u001b[K     |████████████████████████████████| 2.9 MB 11.1 MB/s \n",
            "\u001b[?25hRequirement already satisfied: typing-extensions in /usr/local/lib/python3.7/dist-packages (from torch==1.10.1+cu102) (3.10.0.2)\n",
            "Requirement already satisfied: pillow!=8.3.0,>=5.3.0 in /usr/local/lib/python3.7/dist-packages (from torchvision==0.11.2+cu102) (7.1.2)\n",
            "Requirement already satisfied: numpy in /usr/local/lib/python3.7/dist-packages (from torchvision==0.11.2+cu102) (1.19.5)\n",
            "Installing collected packages: torch, torchvision, torchaudio\n",
            "  Attempting uninstall: torch\n",
            "    Found existing installation: torch 1.10.0+cu111\n",
            "    Uninstalling torch-1.10.0+cu111:\n",
            "      Successfully uninstalled torch-1.10.0+cu111\n",
            "  Attempting uninstall: torchvision\n",
            "    Found existing installation: torchvision 0.11.1+cu111\n",
            "    Uninstalling torchvision-0.11.1+cu111:\n",
            "      Successfully uninstalled torchvision-0.11.1+cu111\n",
            "  Attempting uninstall: torchaudio\n",
            "    Found existing installation: torchaudio 0.10.0+cu111\n",
            "    Uninstalling torchaudio-0.10.0+cu111:\n",
            "      Successfully uninstalled torchaudio-0.10.0+cu111\n",
            "\u001b[31mERROR: pip's dependency resolver does not currently take into account all the packages that are installed. This behaviour is the source of the following dependency conflicts.\n",
            "torchtext 0.11.0 requires torch==1.10.0, but you have torch 1.10.1+cu102 which is incompatible.\u001b[0m\n",
            "Successfully installed torch-1.10.1+cu102 torchaudio-0.10.1+cu102 torchvision-0.11.2+cu102\n"
          ]
        }
      ],
      "source": [
        "!pip3 install torch==1.10.1+cu102 torchvision==0.11.2+cu102 torchaudio===0.10.1+cu102 -f https://download.pytorch.org/whl/cu102/torch_stable.html"
      ]
    },
    {
      "cell_type": "code",
      "source": [
        "!git clone https://github.com/12wang3/mllp.git"
      ],
      "metadata": {
        "colab": {
          "base_uri": "https://localhost:8080/"
        },
        "id": "wbwfucey7aVK",
        "outputId": "a2dce378-4a74-4a7d-afb9-514dbfa7a10f"
      },
      "execution_count": null,
      "outputs": [
        {
          "output_type": "stream",
          "name": "stdout",
          "text": [
            "Cloning into 'mllp'...\n",
            "remote: Enumerating objects: 55, done.\u001b[K\n",
            "remote: Counting objects: 100% (55/55), done.\u001b[K\n",
            "remote: Compressing objects: 100% (51/51), done.\u001b[K\n",
            "remote: Total 55 (delta 7), reused 47 (delta 3), pack-reused 0\u001b[K\n",
            "Unpacking objects: 100% (55/55), done.\n"
          ]
        }
      ]
    },
    {
      "cell_type": "code",
      "source": [
        "cd mllp"
      ],
      "metadata": {
        "id": "kdo88vl58eOB",
        "colab": {
          "base_uri": "https://localhost:8080/"
        },
        "outputId": "4c6d0a1d-670b-4f41-f171-6c0cd01b1958"
      },
      "execution_count": null,
      "outputs": [
        {
          "output_type": "stream",
          "name": "stdout",
          "text": [
            "/content/mllp\n"
          ]
        }
      ]
    },
    {
      "cell_type": "code",
      "source": [
        "import torch\n",
        "import pandas as pd\n",
        "from sklearn.datasets import load_breast_cancer\n",
        "from sklearn.model_selection import train_test_split\n",
        "\n",
        "from mllp.models import MLLP\n",
        "from mllp.utils import DBEncoder\n",
        "\n",
        "device = torch.device('cuda:0' if torch.cuda.is_available() else 'cpu')"
      ],
      "metadata": {
        "id": "B8092wnm9E30"
      },
      "execution_count": null,
      "outputs": []
    },
    {
      "cell_type": "code",
      "source": [
        "data = load_breast_cancer()\n",
        "\n",
        "X_df = pd.DataFrame(data['data'], columns=data['feature_names'])\n",
        "y_df = pd.DataFrame(data['target'], columns=['class'])\n",
        "f_df = pd.DataFrame(zip(data['feature_names'], ['continuous'] * len(data.feature_names)))\n",
        "X_train, X_test, y_train, y_test = train_test_split(X_df, y_df, train_size=0.8)"
      ],
      "metadata": {
        "id": "vCimDSh39J5o"
      },
      "execution_count": null,
      "outputs": []
    },
    {
      "cell_type": "code",
      "source": [
        "db_enc = DBEncoder(f_df, discrete=True)\n",
        "db_enc.fit(X_train, y_train)\n",
        "X_train, y_train = db_enc.transform(X_train, y_train)\n",
        "X_test, y_test = db_enc.transform(X_test, y_test)"
      ],
      "metadata": {
        "colab": {
          "base_uri": "https://localhost:8080/"
        },
        "id": "xsMCCItF9N1L",
        "outputId": "19cfc83a-b427-40f1-c833-89bc34e72134"
      },
      "execution_count": null,
      "outputs": [
        {
          "output_type": "stream",
          "name": "stderr",
          "text": [
            "/usr/local/lib/python3.7/dist-packages/sklearn/utils/deprecation.py:87: FutureWarning: Function get_feature_names is deprecated; get_feature_names is deprecated in 1.0 and will be removed in 1.2. Please use get_feature_names_out instead.\n",
            "  warnings.warn(msg, category=FutureWarning)\n",
            "/content/mllp/mllp/discretizer.py:28: FutureWarning: The pandas.np module is deprecated and will be removed from pandas in a future version. Import numpy directly instead\n",
            "  discrete_col = pd.DataFrame(pd.np.digitize(continuous_data[k], bins=self.boundaries[k], right=True),\n",
            "/usr/local/lib/python3.7/dist-packages/sklearn/utils/deprecation.py:87: FutureWarning: Function get_feature_names is deprecated; get_feature_names is deprecated in 1.0 and will be removed in 1.2. Please use get_feature_names_out instead.\n",
            "  warnings.warn(msg, category=FutureWarning)\n",
            "/usr/local/lib/python3.7/dist-packages/sklearn/base.py:446: UserWarning: X does not have valid feature names, but OneHotEncoder was fitted with feature names\n",
            "  \"X does not have valid feature names, but\"\n",
            "/content/mllp/mllp/discretizer.py:28: FutureWarning: The pandas.np module is deprecated and will be removed from pandas in a future version. Import numpy directly instead\n",
            "  discrete_col = pd.DataFrame(pd.np.digitize(continuous_data[k], bins=self.boundaries[k], right=True),\n",
            "/usr/local/lib/python3.7/dist-packages/sklearn/base.py:446: UserWarning: X does not have valid feature names, but OneHotEncoder was fitted with feature names\n",
            "  \"X does not have valid feature names, but\"\n",
            "/content/mllp/mllp/discretizer.py:28: FutureWarning: The pandas.np module is deprecated and will be removed from pandas in a future version. Import numpy directly instead\n",
            "  discrete_col = pd.DataFrame(pd.np.digitize(continuous_data[k], bins=self.boundaries[k], right=True),\n"
          ]
        }
      ]
    },
    {
      "cell_type": "code",
      "source": [
        "db_enc.me_discretizer.boundaries"
      ],
      "metadata": {
        "colab": {
          "base_uri": "https://localhost:8080/"
        },
        "id": "RWUaepbc9QQw",
        "outputId": "0e990571-376b-46d0-cf07-bbc370a06a47"
      },
      "execution_count": null,
      "outputs": [
        {
          "output_type": "execute_result",
          "data": {
            "text/plain": [
              "defaultdict(list,\n",
              "            {'area error': [31.24, 53.65],\n",
              "             'compactness error': [0.01084, 0.02213],\n",
              "             'concave points error': [0.009199],\n",
              "             'concavity error': [0.01245, 0.02095],\n",
              "             'fractal dimension error': [0.00233],\n",
              "             'mean area': [471.3, 693.7],\n",
              "             'mean compactness': [0.1021],\n",
              "             'mean concave points': [0.04908, 0.07857],\n",
              "             'mean concavity': [0.07135, 0.103],\n",
              "             'mean fractal dimension': [0.05664],\n",
              "             'mean perimeter': [85.24, 98.73, 106.6],\n",
              "             'mean radius': [12.32, 15.04, 17.85],\n",
              "             'mean smoothness': [0.08946],\n",
              "             'mean symmetry': [0.1714],\n",
              "             'mean texture': [18.45],\n",
              "             'perimeter error': [1.714, 2.759, 5.118],\n",
              "             'radius error': [0.1924, 0.4202, 0.5462],\n",
              "             'smoothness error': [],\n",
              "             'symmetry error': [0.04243],\n",
              "             'texture error': [],\n",
              "             'worst area': [694.4, 873.2, 1210.0],\n",
              "             'worst compactness': [0.1788, 0.266, 0.3663],\n",
              "             'worst concave points': [0.1092, 0.1423, 0.175],\n",
              "             'worst concavity': [0.206, 0.3779],\n",
              "             'worst fractal dimension': [0.09585],\n",
              "             'worst perimeter': [101.6, 117.2],\n",
              "             'worst radius': [14.98, 16.77, 19.82],\n",
              "             'worst smoothness': [0.136],\n",
              "             'worst symmetry': [0.2806, 0.3604],\n",
              "             'worst texture': [25.82]})"
            ]
          },
          "metadata": {},
          "execution_count": 6
        }
      ]
    },
    {
      "cell_type": "code",
      "source": [
        "net_structure = [X_train.shape[-1], 32, y_train.shape[-1]]\n",
        "# below is a more complex MLLP structure that can be used for a complex data set\n",
        "# net_structure = [X_train.shape[-1], 128, 128, 64, y_train.shape[-1]]\n",
        "net = MLLP(net_structure,\n",
        "           device=device,\n",
        "           random_binarization_rate=0.0,\n",
        "           use_not=False)\n",
        "net.to(device)"
      ],
      "metadata": {
        "colab": {
          "base_uri": "https://localhost:8080/"
        },
        "id": "R4jn7w0_9U8L",
        "outputId": "8ee55397-57f7-4bd1-bb6d-c61f6cc01eb0"
      },
      "execution_count": null,
      "outputs": [
        {
          "output_type": "execute_result",
          "data": {
            "text/plain": [
              "MLLP(\n",
              "  (conj0): ConjunctionLayer(\n",
              "    (randomly_binarize_layer): RandomBinarizationLayer()\n",
              "  )\n",
              "  (disj0): DisjunctionLayer(\n",
              "    (randomly_binarize_layer): RandomBinarizationLayer()\n",
              "  )\n",
              ")"
            ]
          },
          "metadata": {},
          "execution_count": 7
        }
      ]
    },
    {
      "cell_type": "code",
      "source": [
        "training_log = net.train(\n",
        "    X_train,\n",
        "    y_train,\n",
        "    lr=0.005,\n",
        "    batch_size=16,\n",
        "    epoch=100,\n",
        "    lr_decay_rate=0.75,\n",
        "    lr_decay_epoch=100,\n",
        "    weight_decay=1e-7)"
      ],
      "metadata": {
        "colab": {
          "base_uri": "https://localhost:8080/"
        },
        "id": "ISHtVvxo9YTk",
        "outputId": "564fcbd2-f53e-4afa-8085-e044eadb48c1"
      },
      "execution_count": null,
      "outputs": [
        {
          "output_type": "stream",
          "name": "stdout",
          "text": [
            "[INFO] - LR is set to 0.005\n",
            "[INFO] - epoch: 0, loss: 6.861445292830467\n",
            "[INFO] - ------------------------------------------------------------\n",
            "[INFO] - On Training Set:\n",
            "\tAccuracy of MLLP Model: 0.2857142857142857\n",
            "\tAccuracy of CRS  Model: 0.7142857142857143\n",
            "[INFO] - On Training Set:\n",
            "\tF1 Score of MLLP Model: 0.22222222222222224\n",
            "\tF1 Score of CRS  Model: 0.41666666666666663\n",
            "[INFO] - ------------------------------------------------------------\n",
            "[INFO] - epoch: 1, loss: 3.084330443292856\n",
            "[INFO] - epoch: 2, loss: 2.0992393530905247\n",
            "[INFO] - epoch: 3, loss: 1.7411252968013287\n",
            "[INFO] - epoch: 4, loss: 1.5871057864278555\n",
            "[INFO] - epoch: 5, loss: 1.4145475793629885\n",
            "[INFO] - ------------------------------------------------------------\n",
            "[INFO] - On Training Set:\n",
            "\tAccuracy of MLLP Model: 1.0\n",
            "\tAccuracy of CRS  Model: 0.2857142857142857\n",
            "[INFO] - On Training Set:\n",
            "\tF1 Score of MLLP Model: 1.0\n",
            "\tF1 Score of CRS  Model: 0.22222222222222224\n",
            "[INFO] - ------------------------------------------------------------\n",
            "[INFO] - epoch: 6, loss: 1.289051841944456\n",
            "[INFO] - epoch: 7, loss: 1.1666295621544123\n",
            "[INFO] - epoch: 8, loss: 1.0715201571583748\n",
            "[INFO] - epoch: 9, loss: 0.9498980003409088\n",
            "[INFO] - epoch: 10, loss: 0.8423175262287259\n",
            "[INFO] - ------------------------------------------------------------\n",
            "[INFO] - On Training Set:\n",
            "\tAccuracy of MLLP Model: 1.0\n",
            "\tAccuracy of CRS  Model: 0.8571428571428571\n",
            "[INFO] - On Training Set:\n",
            "\tF1 Score of MLLP Model: 1.0\n",
            "\tF1 Score of CRS  Model: 0.8444444444444446\n",
            "[INFO] - ------------------------------------------------------------\n",
            "[INFO] - epoch: 11, loss: 0.7730779149569571\n",
            "[INFO] - epoch: 12, loss: 0.7014357196167111\n",
            "[INFO] - epoch: 13, loss: 0.6729816170409322\n",
            "[INFO] - epoch: 14, loss: 0.6349188967724331\n",
            "[INFO] - epoch: 15, loss: 0.6269646289292723\n",
            "[INFO] - ------------------------------------------------------------\n",
            "[INFO] - On Training Set:\n",
            "\tAccuracy of MLLP Model: 0.8571428571428571\n",
            "\tAccuracy of CRS  Model: 1.0\n",
            "[INFO] - On Training Set:\n",
            "\tF1 Score of MLLP Model: 0.8571428571428571\n",
            "\tF1 Score of CRS  Model: 1.0\n",
            "[INFO] - ------------------------------------------------------------\n",
            "[INFO] - epoch: 16, loss: 0.5466695402283221\n",
            "[INFO] - epoch: 17, loss: 0.5156850768253207\n",
            "[INFO] - epoch: 18, loss: 0.4817428613314405\n",
            "[INFO] - epoch: 19, loss: 0.4744931389577687\n",
            "[INFO] - epoch: 20, loss: 0.43504602659959346\n",
            "[INFO] - ------------------------------------------------------------\n",
            "[INFO] - On Training Set:\n",
            "\tAccuracy of MLLP Model: 1.0\n",
            "\tAccuracy of CRS  Model: 1.0\n",
            "[INFO] - On Training Set:\n",
            "\tF1 Score of MLLP Model: 1.0\n",
            "\tF1 Score of CRS  Model: 1.0\n",
            "[INFO] - ------------------------------------------------------------\n",
            "[INFO] - epoch: 21, loss: 0.3955928627983667\n",
            "[INFO] - epoch: 22, loss: 0.3721628643106669\n",
            "[INFO] - epoch: 23, loss: 0.344941237824969\n",
            "[INFO] - epoch: 24, loss: 0.31087502476293594\n",
            "[INFO] - epoch: 25, loss: 0.30639932909980416\n",
            "[INFO] - ------------------------------------------------------------\n",
            "[INFO] - On Training Set:\n",
            "\tAccuracy of MLLP Model: 1.0\n",
            "\tAccuracy of CRS  Model: 0.7142857142857143\n",
            "[INFO] - On Training Set:\n",
            "\tF1 Score of MLLP Model: 1.0\n",
            "\tF1 Score of CRS  Model: 0.7083333333333333\n",
            "[INFO] - ------------------------------------------------------------\n",
            "[INFO] - epoch: 26, loss: 0.28425641934154555\n",
            "[INFO] - epoch: 27, loss: 0.2525207019643858\n",
            "[INFO] - epoch: 28, loss: 0.23072476744710002\n",
            "[INFO] - epoch: 29, loss: 0.2152099193772301\n",
            "[INFO] - epoch: 30, loss: 0.19719794491538778\n",
            "[INFO] - ------------------------------------------------------------\n",
            "[INFO] - On Training Set:\n",
            "\tAccuracy of MLLP Model: 1.0\n",
            "\tAccuracy of CRS  Model: 1.0\n",
            "[INFO] - On Training Set:\n",
            "\tF1 Score of MLLP Model: 1.0\n",
            "\tF1 Score of CRS  Model: 1.0\n",
            "[INFO] - ------------------------------------------------------------\n",
            "[INFO] - epoch: 31, loss: 0.18358960397017654\n",
            "[INFO] - epoch: 32, loss: 0.1783702602097037\n",
            "[INFO] - epoch: 33, loss: 0.16530975599016529\n",
            "[INFO] - epoch: 34, loss: 0.15458558184764115\n",
            "[INFO] - epoch: 35, loss: 0.15469952092098538\n",
            "[INFO] - ------------------------------------------------------------\n",
            "[INFO] - On Training Set:\n",
            "\tAccuracy of MLLP Model: 1.0\n",
            "\tAccuracy of CRS  Model: 1.0\n",
            "[INFO] - On Training Set:\n",
            "\tF1 Score of MLLP Model: 1.0\n",
            "\tF1 Score of CRS  Model: 1.0\n",
            "[INFO] - ------------------------------------------------------------\n",
            "[INFO] - epoch: 36, loss: 0.1344298898402485\n",
            "[INFO] - epoch: 37, loss: 0.12663018090825062\n",
            "[INFO] - epoch: 38, loss: 0.13115230516996235\n",
            "[INFO] - epoch: 39, loss: 0.11202642830903642\n",
            "[INFO] - epoch: 40, loss: 0.10682109613844659\n",
            "[INFO] - ------------------------------------------------------------\n",
            "[INFO] - On Training Set:\n",
            "\tAccuracy of MLLP Model: 1.0\n",
            "\tAccuracy of CRS  Model: 1.0\n",
            "[INFO] - On Training Set:\n",
            "\tF1 Score of MLLP Model: 1.0\n",
            "\tF1 Score of CRS  Model: 1.0\n",
            "[INFO] - ------------------------------------------------------------\n",
            "[INFO] - epoch: 41, loss: 0.09858286936650984\n",
            "[INFO] - epoch: 42, loss: 0.09306205692701042\n",
            "[INFO] - epoch: 43, loss: 0.09141297166934237\n",
            "[INFO] - epoch: 44, loss: 0.08057246081807534\n",
            "[INFO] - epoch: 45, loss: 0.0742619365646533\n",
            "[INFO] - ------------------------------------------------------------\n",
            "[INFO] - On Training Set:\n",
            "\tAccuracy of MLLP Model: 1.0\n",
            "\tAccuracy of CRS  Model: 1.0\n",
            "[INFO] - On Training Set:\n",
            "\tF1 Score of MLLP Model: 1.0\n",
            "\tF1 Score of CRS  Model: 1.0\n",
            "[INFO] - ------------------------------------------------------------\n",
            "[INFO] - epoch: 46, loss: 0.06928936670010444\n",
            "[INFO] - epoch: 47, loss: 0.06408394657410099\n",
            "[INFO] - epoch: 48, loss: 0.05788737711554859\n",
            "[INFO] - epoch: 49, loss: 0.05582679566441584\n",
            "[INFO] - epoch: 50, loss: 0.048338841434087954\n",
            "[INFO] - ------------------------------------------------------------\n",
            "[INFO] - On Training Set:\n",
            "\tAccuracy of MLLP Model: 1.0\n",
            "\tAccuracy of CRS  Model: 1.0\n",
            "[INFO] - On Training Set:\n",
            "\tF1 Score of MLLP Model: 1.0\n",
            "\tF1 Score of CRS  Model: 1.0\n",
            "[INFO] - ------------------------------------------------------------\n",
            "[INFO] - epoch: 51, loss: 0.044189851880219067\n",
            "[INFO] - epoch: 52, loss: 0.0391278900897305\n",
            "[INFO] - epoch: 53, loss: 0.03510763388915805\n",
            "[INFO] - epoch: 54, loss: 0.030994549677416217\n",
            "[INFO] - epoch: 55, loss: 0.02679548099223439\n",
            "[INFO] - ------------------------------------------------------------\n",
            "[INFO] - On Training Set:\n",
            "\tAccuracy of MLLP Model: 1.0\n",
            "\tAccuracy of CRS  Model: 1.0\n",
            "[INFO] - On Training Set:\n",
            "\tF1 Score of MLLP Model: 1.0\n",
            "\tF1 Score of CRS  Model: 1.0\n",
            "[INFO] - ------------------------------------------------------------\n",
            "[INFO] - epoch: 56, loss: 0.024678067750755872\n",
            "[INFO] - epoch: 57, loss: 0.019990862874806226\n",
            "[INFO] - epoch: 58, loss: 0.01735094298999229\n",
            "[INFO] - epoch: 59, loss: 0.015271764860472103\n",
            "[INFO] - epoch: 60, loss: 0.014680046441085892\n",
            "[INFO] - ------------------------------------------------------------\n",
            "[INFO] - On Training Set:\n",
            "\tAccuracy of MLLP Model: 1.0\n",
            "\tAccuracy of CRS  Model: 1.0\n",
            "[INFO] - On Training Set:\n",
            "\tF1 Score of MLLP Model: 1.0\n",
            "\tF1 Score of CRS  Model: 1.0\n",
            "[INFO] - ------------------------------------------------------------\n",
            "[INFO] - epoch: 61, loss: 0.012653179042899865\n",
            "[INFO] - epoch: 62, loss: 0.011721294325525378\n",
            "[INFO] - epoch: 63, loss: 0.010847695633287913\n",
            "[INFO] - epoch: 64, loss: 0.011064695970617322\n",
            "[INFO] - epoch: 65, loss: 0.008822443753615516\n",
            "[INFO] - ------------------------------------------------------------\n",
            "[INFO] - On Training Set:\n",
            "\tAccuracy of MLLP Model: 1.0\n",
            "\tAccuracy of CRS  Model: 1.0\n",
            "[INFO] - On Training Set:\n",
            "\tF1 Score of MLLP Model: 1.0\n",
            "\tF1 Score of CRS  Model: 1.0\n",
            "[INFO] - ------------------------------------------------------------\n",
            "[INFO] - epoch: 66, loss: 0.007971382859693676\n",
            "[INFO] - epoch: 67, loss: 0.007874289080831431\n",
            "[INFO] - epoch: 68, loss: 0.006648005065159168\n",
            "[INFO] - epoch: 69, loss: 0.0061692633121879226\n",
            "[INFO] - epoch: 70, loss: 0.005474691867220827\n",
            "[INFO] - ------------------------------------------------------------\n",
            "[INFO] - On Training Set:\n",
            "\tAccuracy of MLLP Model: 1.0\n",
            "\tAccuracy of CRS  Model: 1.0\n",
            "[INFO] - On Training Set:\n",
            "\tF1 Score of MLLP Model: 1.0\n",
            "\tF1 Score of CRS  Model: 1.0\n",
            "[INFO] - ------------------------------------------------------------\n",
            "[INFO] - epoch: 71, loss: 0.004949822096591561\n",
            "[INFO] - epoch: 72, loss: 0.004513902490444366\n",
            "[INFO] - epoch: 73, loss: 0.0040192007304256094\n",
            "[INFO] - epoch: 74, loss: 0.003629016940863039\n",
            "[INFO] - epoch: 75, loss: 0.003338028499626944\n",
            "[INFO] - ------------------------------------------------------------\n",
            "[INFO] - On Training Set:\n",
            "\tAccuracy of MLLP Model: 1.0\n",
            "\tAccuracy of CRS  Model: 1.0\n",
            "[INFO] - On Training Set:\n",
            "\tF1 Score of MLLP Model: 1.0\n",
            "\tF1 Score of CRS  Model: 1.0\n",
            "[INFO] - ------------------------------------------------------------\n",
            "[INFO] - epoch: 76, loss: 0.0029667083569648867\n",
            "[INFO] - epoch: 77, loss: 0.0028053654392152794\n",
            "[INFO] - epoch: 78, loss: 0.002463478866630453\n",
            "[INFO] - epoch: 79, loss: 0.0022514110463021098\n",
            "[INFO] - epoch: 80, loss: 0.0023174990567724763\n",
            "[INFO] - ------------------------------------------------------------\n",
            "[INFO] - On Training Set:\n",
            "\tAccuracy of MLLP Model: 1.0\n",
            "\tAccuracy of CRS  Model: 1.0\n",
            "[INFO] - On Training Set:\n",
            "\tF1 Score of MLLP Model: 1.0\n",
            "\tF1 Score of CRS  Model: 1.0\n",
            "[INFO] - ------------------------------------------------------------\n",
            "[INFO] - epoch: 81, loss: 0.0018557786955213373\n",
            "[INFO] - epoch: 82, loss: 0.0017603542809041528\n",
            "[INFO] - epoch: 83, loss: 0.0015740737890013179\n",
            "[INFO] - epoch: 84, loss: 0.0013924405124754458\n",
            "[INFO] - epoch: 85, loss: 0.0013965859066047415\n",
            "[INFO] - ------------------------------------------------------------\n",
            "[INFO] - On Training Set:\n",
            "\tAccuracy of MLLP Model: 1.0\n",
            "\tAccuracy of CRS  Model: 1.0\n",
            "[INFO] - On Training Set:\n",
            "\tF1 Score of MLLP Model: 1.0\n",
            "\tF1 Score of CRS  Model: 1.0\n",
            "[INFO] - ------------------------------------------------------------\n",
            "[INFO] - epoch: 86, loss: 0.0011661028389990946\n",
            "[INFO] - epoch: 87, loss: 0.0010488462792999087\n",
            "[INFO] - epoch: 88, loss: 0.0009607742059927205\n",
            "[INFO] - epoch: 89, loss: 0.0009084649539374823\n",
            "[INFO] - epoch: 90, loss: 0.0008007554155673446\n",
            "[INFO] - ------------------------------------------------------------\n",
            "[INFO] - On Training Set:\n",
            "\tAccuracy of MLLP Model: 1.0\n",
            "\tAccuracy of CRS  Model: 1.0\n",
            "[INFO] - On Training Set:\n",
            "\tF1 Score of MLLP Model: 1.0\n",
            "\tF1 Score of CRS  Model: 1.0\n",
            "[INFO] - ------------------------------------------------------------\n",
            "[INFO] - epoch: 91, loss: 0.0007334470942907956\n",
            "[INFO] - epoch: 92, loss: 0.0006786832601406445\n",
            "[INFO] - epoch: 93, loss: 0.0006155412490684853\n",
            "[INFO] - epoch: 94, loss: 0.0005683019072506568\n",
            "[INFO] - epoch: 95, loss: 0.0005678291466040264\n",
            "[INFO] - ------------------------------------------------------------\n",
            "[INFO] - On Training Set:\n",
            "\tAccuracy of MLLP Model: 1.0\n",
            "\tAccuracy of CRS  Model: 1.0\n",
            "[INFO] - On Training Set:\n",
            "\tF1 Score of MLLP Model: 1.0\n",
            "\tF1 Score of CRS  Model: 1.0\n",
            "[INFO] - ------------------------------------------------------------\n",
            "[INFO] - epoch: 96, loss: 0.0004781724249323105\n",
            "[INFO] - epoch: 97, loss: 0.0004776194467268624\n",
            "[INFO] - epoch: 98, loss: 0.0004067757998171828\n",
            "[INFO] - epoch: 99, loss: 0.0003747867663719262\n"
          ]
        }
      ]
    },
    {
      "cell_type": "code",
      "source": [
        "acc, acc_b, f1, f1_b = net.test(X_test, y_test, need_transform=True)\n",
        "\n",
        "print('Accuracy of MLLP Model: {}'\n",
        "      '\\nAccuracy of CRS  Model: {}'\n",
        "      '\\nF1 Score of MLLP Model: {}'\n",
        "      '\\nF1 Score of CRS  Model: {}'.format(acc, acc_b, f1, f1_b))"
      ],
      "metadata": {
        "colab": {
          "base_uri": "https://localhost:8080/"
        },
        "id": "z1-kjw8x9bM9",
        "outputId": "3def5141-77f5-4f8d-b604-414257f9d499"
      },
      "execution_count": null,
      "outputs": [
        {
          "output_type": "stream",
          "name": "stdout",
          "text": [
            "Accuracy of MLLP Model: 0.956140350877193\n",
            "Accuracy of CRS  Model: 0.9385964912280702\n",
            "F1 Score of MLLP Model: 0.9539245008487591\n",
            "F1 Score of CRS  Model: 0.9359910162829872\n"
          ]
        }
      ]
    },
    {
      "cell_type": "code",
      "source": [
        "net.concept_rule_set_print(X_fname=db_enc.X_fname, y_fname=db_enc.y_fname, eliminate_redundancy=True)"
      ],
      "metadata": {
        "colab": {
          "base_uri": "https://localhost:8080/"
        },
        "id": "NxdeNDvu9oDn",
        "outputId": "9b1d6dc9-8fdd-4626-dfab-7134d1b288c1"
      },
      "execution_count": null,
      "outputs": [
        {
          "output_type": "stream",
          "name": "stdout",
          "text": [
            "------------------------------------------------------------------------------------------\n",
            " class_0:\n",
            "\t       r1,3:\t [' mean texture_>18.45', ' mean perimeter_(85.24, 98.73]', ' area error_(31.24, 53.65]', ' worst texture_>25.82', ' worst concavity_(0.206, 0.3779]']\n",
            "\t       r1,5:\t [' mean texture_>18.45', ' mean concavity_>0.103', ' worst texture_>25.82', ' worst smoothness_>0.136']\n",
            "\t       r1,8:\t [' mean radius_(12.32, 15.04]', ' mean smoothness_>0.08946', ' worst perimeter_(101.6, 117.2]', ' worst smoothness_>0.136', ' worst fractal dimension_>0.09585']\n",
            "\t      r1,12:\t [' mean radius_(12.32, 15.04]', ' mean smoothness_>0.08946', ' mean concavity_>0.103', ' mean concave points_>0.07857', ' perimeter error_(1.714, 2.759]', ' worst smoothness_>0.136']\n",
            "\t      r1,17:\t [' mean concavity_>0.103', ' mean concave points_>0.07857', ' worst perimeter_>117.2', ' worst smoothness_>0.136']\n",
            "\t      r1,22:\t [' mean area_>693.7', ' worst perimeter_>117.2']\n",
            "\t      r1,24:\t [' mean texture_>18.45', ' mean area_>693.7']\n",
            "\t      r1,26:\t [' mean perimeter_(85.24, 98.73]', ' compactness error_(0.01084, 0.02213]', ' concavity error_(0.01245, 0.02095]', ' concave points error_<=0.009199', ' worst texture_>25.82', ' worst perimeter_(101.6, 117.2]']\n",
            " class_1:\n",
            "\t       r1,0:\t [' mean area_(471.3, 693.7]', ' mean concave points_<=0.04908', ' symmetry error_<=0.04243', ' worst radius_(14.98, 16.77]', ' worst smoothness_<=0.136', ' worst concave points_<=0.1092', ' worst symmetry_<=0.2806']\n",
            "\t       r1,2:\t [' mean texture_<=18.45', ' mean concavity_<=0.07135', ' symmetry error_<=0.04243', ' worst texture_<=25.82', ' worst fractal dimension_<=0.09585']\n",
            "\t       r1,7:\t [' mean texture_<=18.45', ' mean concavity_<=0.07135', ' worst concavity_<=0.206', ' worst fractal dimension_<=0.09585']\n",
            "\t      r1,11:\t [' mean fractal dimension_>0.05664', ' area error_<=31.24', ' symmetry error_<=0.04243', ' worst perimeter_<=101.6', ' worst fractal dimension_<=0.09585']\n",
            "\t      r1,13:\t [' mean concave points_<=0.04908', ' worst radius_<=14.98', ' worst perimeter_<=101.6', ' worst area_<=694.4']\n",
            "\t      r1,14:\t [' symmetry error_<=0.04243', ' worst texture_<=25.82', ' worst area_<=694.4']\n",
            "\t      r1,18:\t [' mean area_(471.3, 693.7]', ' mean fractal dimension_>0.05664', ' symmetry error_<=0.04243', ' worst radius_(14.98, 16.77]', ' worst area_(694.4, 873.2]', ' worst smoothness_<=0.136']\n",
            "\t      r1,23:\t [' symmetry error_<=0.04243', ' worst texture_<=25.82', ' worst perimeter_(101.6, 117.2]', ' worst area_(694.4, 873.2]', ' worst fractal dimension_<=0.09585']\n",
            "\t      r1,27:\t [' mean concave points_<=0.04908', ' area error_<=31.24', ' worst perimeter_<=101.6']\n",
            "\t      r1,28:\t [' worst perimeter_<=101.6', ' worst area_<=694.4', ' worst fractal dimension_<=0.09585']\n",
            "\t      r1,31:\t [' mean texture_<=18.45', ' symmetry error_<=0.04243', ' worst texture_<=25.82', ' worst perimeter_(101.6, 117.2]', ' worst fractal dimension_<=0.09585']\n"
          ]
        }
      ]
    },
    {
      "cell_type": "code",
      "source": [
        "!python experiments.py -d tic-tac-toe &"
      ],
      "metadata": {
        "colab": {
          "base_uri": "https://localhost:8080/"
        },
        "id": "oxjjSX1U9svy",
        "outputId": "0b915b19-11e9-4a2d-b647-4f3bc9afc397"
      },
      "execution_count": null,
      "outputs": [
        {
          "output_type": "stream",
          "name": "stdout",
          "text": [
            "/usr/local/lib/python3.7/dist-packages/sklearn/utils/deprecation.py:87: FutureWarning: Function get_feature_names is deprecated; get_feature_names is deprecated in 1.0 and will be removed in 1.2. Please use get_feature_names_out instead.\n",
            "  warnings.warn(msg, category=FutureWarning)\n",
            "/usr/local/lib/python3.7/dist-packages/sklearn/utils/deprecation.py:87: FutureWarning: Function get_feature_names is deprecated; get_feature_names is deprecated in 1.0 and will be removed in 1.2. Please use get_feature_names_out instead.\n",
            "  warnings.warn(msg, category=FutureWarning)\n",
            "/usr/local/lib/python3.7/dist-packages/sklearn/base.py:446: UserWarning: X does not have valid feature names, but OneHotEncoder was fitted with feature names\n",
            "  \"X does not have valid feature names, but\"\n",
            "/usr/local/lib/python3.7/dist-packages/sklearn/base.py:446: UserWarning: X does not have valid feature names, but OneHotEncoder was fitted with feature names\n",
            "  \"X does not have valid feature names, but\"\n"
          ]
        }
      ]
    },
    {
      "cell_type": "code",
      "source": [
        "!tail -f log_folder/tic-tac-toe_k5_ki0_useValidationSetFalse_e401_bs64_lr0.01_lrdr0.75_lrde100_wd0.0_p0.0_useNOTFalse_L64/log.txt"
      ],
      "metadata": {
        "colab": {
          "base_uri": "https://localhost:8080/"
        },
        "id": "157xgZAY_d84",
        "outputId": "ccd89d31-7c30-40c7-a29d-cfe2da051ab1"
      },
      "execution_count": null,
      "outputs": [
        {
          "output_type": "stream",
          "name": "stdout",
          "text": [
            "\tF1 Score of CRS  Model: 1.0\n",
            "[INFO] - ------------------------------------------------------------\n",
            "[INFO] - ============================================================\n",
            "[INFO] - Test:\n",
            "\tAccuracy of MLLP Model: 0.9895833333333334\n",
            "\tAccuracy of CRS  Model: 0.9947916666666666\n",
            "[INFO] - Test:\n",
            "\tF1 Score of MLLP Model: 0.989158667419537\n",
            "\tF1 Score of CRS  Model: 0.9946126434523976\n",
            "[INFO] - ============================================================\n",
            "^C\n"
          ]
        }
      ]
    },
    {
      "cell_type": "code",
      "source": [
        "# adult data set\n",
        "# You'd better run it on GPU for training large network on CPU may cost lots of time.\n",
        "!python experiments.py -d adult -e 800 -bs 64 -lr 0.005 -p 0.9 --use_not --use_validation_set -s 256_256_64 &"
      ],
      "metadata": {
        "colab": {
          "base_uri": "https://localhost:8080/"
        },
        "id": "j8XNg11SBzJY",
        "outputId": "da4b1244-5285-49d2-9d83-00e95c198efd"
      },
      "execution_count": null,
      "outputs": [
        {
          "metadata": {
            "tags": null
          },
          "name": "stdout",
          "output_type": "stream",
          "text": [
            "/usr/local/lib/python3.7/dist-packages/sklearn/utils/deprecation.py:87: FutureWarning: Function get_feature_names is deprecated; get_feature_names is deprecated in 1.0 and will be removed in 1.2. Please use get_feature_names_out instead.\n",
            "  warnings.warn(msg, category=FutureWarning)\n",
            "/content/mllp/mllp/discretizer.py:28: FutureWarning: The pandas.np module is deprecated and will be removed from pandas in a future version. Import numpy directly instead\n",
            "  discrete_col = pd.DataFrame(pd.np.digitize(continuous_data[k], bins=self.boundaries[k], right=True),\n",
            "/usr/local/lib/python3.7/dist-packages/sklearn/utils/deprecation.py:87: FutureWarning: Function get_feature_names is deprecated; get_feature_names is deprecated in 1.0 and will be removed in 1.2. Please use get_feature_names_out instead.\n",
            "  warnings.warn(msg, category=FutureWarning)\n",
            "/usr/local/lib/python3.7/dist-packages/sklearn/base.py:446: UserWarning: X does not have valid feature names, but OneHotEncoder was fitted with feature names\n",
            "  \"X does not have valid feature names, but\"\n",
            "/content/mllp/mllp/discretizer.py:28: FutureWarning: The pandas.np module is deprecated and will be removed from pandas in a future version. Import numpy directly instead\n",
            "  discrete_col = pd.DataFrame(pd.np.digitize(continuous_data[k], bins=self.boundaries[k], right=True),\n",
            "/usr/local/lib/python3.7/dist-packages/sklearn/base.py:446: UserWarning: X does not have valid feature names, but OneHotEncoder was fitted with feature names\n",
            "  \"X does not have valid feature names, but\"\n",
            "/content/mllp/mllp/discretizer.py:28: FutureWarning: The pandas.np module is deprecated and will be removed from pandas in a future version. Import numpy directly instead\n",
            "  discrete_col = pd.DataFrame(pd.np.digitize(continuous_data[k], bins=self.boundaries[k], right=True),\n"
          ]
        }
      ]
    },
    {
      "cell_type": "code",
      "source": [
        "from google.colab import files\n",
        "files.download(\"/content/mllp/log_folder\")"
      ],
      "metadata": {
        "id": "C9CvrqWzD-hN"
      },
      "execution_count": null,
      "outputs": []
    },
    {
      "cell_type": "code",
      "source": [
        ""
      ],
      "metadata": {
        "id": "1-QACqsBfn7W"
      },
      "execution_count": null,
      "outputs": []
    },
    {
      "cell_type": "code",
      "source": [
        ""
      ],
      "metadata": {
        "id": "RFn97ExDgOgI"
      },
      "execution_count": null,
      "outputs": []
    }
  ]
}